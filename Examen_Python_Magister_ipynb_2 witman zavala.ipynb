{
  "cells": [
    {
      "cell_type": "markdown",
      "id": "418ccbbb",
      "metadata": {
        "id": "418ccbbb"
      },
      "source": [
        "# Cátedra 1- Programacion en Python -WITMAN ZAVALA MUÑOZ\n",
        "### Para contestar esta cátedra sera necesario el siguiente achivo base: **`health_lifestyle_classification.csv`*"
      ]
    },
    {
      "cell_type": "code",
      "source": [
        "#import pandas as pd\n",
        "\n",
        "## URL del archivo CSV en el repositorio de GitHub\n",
        "#url = \"https://github.com/witman92/C-tedra-1--Programacion-en-Python-2025/raw/main/health_lifestyle_classification.csv\"\n",
        "## Leer el archivo CSV en un DataFrame de pandas\n",
        "#cl = pd.read_csv(url)\n",
        "## Mostrar las primeras 10 filas del DataFrame\n",
        "#cl.head(10)"
      ],
      "metadata": {
        "collapsed": true,
        "id": "e2KjCaUgUuZy"
      },
      "id": "e2KjCaUgUuZy",
      "execution_count": 118,
      "outputs": []
    },
    {
      "cell_type": "code",
      "source": [
        "import pandas as pd\n",
        "\n",
        "# URL del archivo Excel en el repositorio de GitHub\n",
        "url = \"https://github.com/witman92/C-tedra-1--Programacion-en-Python-2025/raw/main/clasificaci%C3%B3n%20de%20estilo%20de%20vida%20saludable..xlsx\"\n",
        "\n",
        "# Leer el archivo Excel directamente desde la URL\n",
        "df = pd.read_excel(url)\n",
        "\n",
        "# Eliminar la primera fila si contiene encabezados innecesarios o duplicados\n",
        "df = df.iloc[1:].reset_index(drop=True)\n",
        "\n",
        "# Cambiar el índice para que comience en 1 (opcional, solo si es necesario)\n",
        "df.index = df.index + 1\n",
        "\n",
        "# Mostrar las primeras 10 filas del DataFrame como tabla\n",
        "print(df.head(10).to_string(index=True))\n"
      ],
      "metadata": {
        "colab": {
          "base_uri": "https://localhost:8080/"
        },
        "id": "fYuDG-M1jCE6",
        "outputId": "dfb6f831-0f25-498a-e3e4-978a90584655",
        "collapsed": true
      },
      "id": "fYuDG-M1jCE6",
      "execution_count": 119,
      "outputs": [
        {
          "output_type": "stream",
          "name": "stdout",
          "text": [
            "    EDAD     GENERO    ESTATURA    PESO KG        IMC  IMC ESTIMADO  IMC ESCALADO  IMC CORREGIDO  TAMAÑO CINTURA  PRESION ARTERIAL   FRECUENCIA CARDIACA  COLESTEROL     GLUCOSA   INSULINA  HORAS  DE SUEÑO CALIDAD DE SUEÑO  HORAS DE TRABAJO  ACTIVIDAD FISICA   PASOS DIARIOS  CONSUMO  CALORIAS   CONSUMO  AZUCAR  CONSUMO  ALCOHOL NIVEL FUMADOR  CONSUMO AGUA  TIEMPO PANTALLA  NIVEL ESTRÉS  PUNTUACION  DE SALUD MENTAL APOYO SALUD MENTAL    NIVEL EDUCATIVO   TIPO TRABAJO   OCUPACION      INGRESO   TIPO DIETA TIPO EJERCICIO USO MAQUINA ACCESO SANITARIO SEGURO EXPOSICIÓN  A LUZ SOLAR  COMIDA POR DIA CONSUMO CAFEINA HISTORIA FAMILIAR TIENE MASCOTA  NIVEL ELECTROLITOS  MARCADOR GENETICO  PUNTUACION RIESGO AMBIENTAL  DOCIS DIARIA SUMPLEMENTO   OBJETIVO\n",
            "1     69   Femenino  163.207380  97.799859  36.716278     36.716278    110.148833      36.511417       85.598889        117.917986             66.463696  115.794002  116.905134  10.131597         8.428410            Bueno          9.515198           0.568219   11911.201401         2650.376972         74.663405     Regularmente        Ligero      0.716409         5.925455             3                            9                 No  Escuela secundaria       Oficina   Ingeniero  6240.517690       Vegano         Cardio    Moderado         Moderado     No                    Alto               5        Moderado                Si            No                   0                1.0                          5.5                  6.239340  Saludable\n",
            "2     46  Masculino  177.281966  80.687562  25.673050     25.673050     77.019151      25.587429       90.295030        123.073698             76.043212  138.134787   89.180302        NaN         5.702164             Malo          5.829853           3.764406    2974.035375         1746.755144         19.702382     Regularmente       Intenso      2.487900         4.371250             0                            1                 No            Maestría       Oficina     Maestro  3429.179266       Vegano         Cardio        Alto            Bueno     Si                    Alto               4        Moderado                No            No                   0                1.0                          5.5                  5.423737  Saludable\n",
            "3     32   Femenino  172.101255  63.142868  21.318480     21.318480     63.955440      21.177109      100.504211        148.173453             68.781981  203.017447  128.375798  18.733179         5.188316            Bueno          9.489693           0.889474    5321.539497         2034.193242         82.580050   Ocasionalmente       Intenso      2.643335         4.116064            10                            4                 No            Maestría  Mano de obra     Maestro  2618.503534  Vegetariano          Mixto        Bajo         Moderado     No                    Alto               1         Ninguno                No            Si                   0                1.0                          5.5                  8.388611  Saludable\n",
            "4     60   Femenino  163.608816  40.000000  14.943302     14.943302     44.829907      14.844299       69.021150        150.613181             92.335358  200.412439   94.813332  16.038701         7.912514            Bueno          7.275450           2.901608    9791.376712         2386.210257         45.961322              NaN       Intenso      1.968393         3.180087             9                            7                 Si            Maestría  Desempleados      Doctor  3662.086276       Vegano        Ninguno        Bajo         Moderado     Si                    Alto               1         Ninguno                Si            Si                   0                1.0                          5.5                  0.332622  Saludable\n",
            "5     25  Masculino  186.788025  55.276111  15.843073     15.843073     47.529218      16.087835       86.591923        118.722971             51.971485  165.659179   99.496769        NaN        10.065352             Malo          8.536500           3.581308    9221.120390         2565.731983         71.999679   Ocasionalmente       Intenso      2.115213         5.878847             7                            6                 No  Escuela secundaria       Oficina     Maestro  3667.151536  Vegetariano        Ninguno        Bajo         Moderado     Si                    Alto               4         Ninguno                Si            Si                   0                1.0                          5.5                 -8.985465  Saludable\n",
            "6     78   Femenino  166.164733  65.035212  23.554335     23.554335     70.663006      23.452755       67.838374        102.141757             70.472631  245.801110   91.821000  15.583876         4.342973        Excelente          6.206772           0.294640    7968.302176         1868.203785         53.836960   Ocasionalmente       Intenso      1.704180         4.418494             7                            1                 Si           Bachiller  Desempleados   Ingeniero  3898.829196  Vegetariano         Fuerza    Moderado             Malo     Si                    Alto               2         Ninguno                No            No                   0                NaN                          5.5                 -6.296536  Saludable\n",
            "7     38   Femenino  163.783995  47.756125  17.802712     17.802712     53.408136      17.654781       73.071574        136.790243             65.791315  157.519344  106.466414  12.736925         6.659164             Malo          9.181722           1.783920    3606.509508         1885.142923         73.716032          Ninguno    No fumador      1.575306         8.298021             7                            2                 No           Bachiller    Tecnología  Agricultor  3360.848318     Omnívoro         Fuerza        Alto         Moderado     Si                    Alto               3        Moderado                No            Si                   0                1.0                          5.5                  7.875266  Saludable\n",
            "8     56   Femenino  165.716460  47.257109  17.208216     17.208216     51.624648      17.199712       46.675208        133.536300             78.205237  160.148783   78.770043        NaN         8.717906             Malo         11.461929           0.838778    5199.027338         1642.194189         84.438878   Ocasionalmente        Ligero      2.337446         0.707336             2                            9                 Si           Doctorado       Oficina   Ingeniero  5366.332772       Vegano        Ninguno        Alto         Moderado     Si                    Alto               2        Moderado                No            No                   0                NaN                          5.5                 -8.055654  Saludable\n",
            "9     75  Masculino  151.310888  65.966591  28.812682     28.812682     86.438045      29.088049       94.294368        121.761602             90.470232  192.111798  130.681356        NaN         8.184905          Regular          4.638267           2.341377    7436.828641         2508.233129         58.937603          Ninguno    No fumador      3.118364         2.179987            10                            9                 No           Bachiller  Mano de obra   Conductor  4472.934549     Omnívoro         Fuerza        Alto         Moderado     No                    Alto               1            Alto                Si            No                   0                1.0                          5.5                 -3.035162  Saludable\n",
            "10    36  Masculino  154.018148  72.899782  30.731407     30.731407     92.194220      30.812236       71.862592        111.870635             66.922530  179.722343  138.632213   9.593523         7.917863             Malo          6.851885           1.354062    4906.718319         2014.520065         33.576716   Ocasionalmente    No fumador      1.935384         7.229068             9                            9                 Si           Bachiller  Mano de obra   Conductor  2169.744988     Omnívoro         Fuerza        Alto         Moderado     Si                    Bajo               2            Alto                Si            Si                   0                1.0                          5.5                  8.682837  Saludable\n"
          ]
        }
      ]
    },
    {
      "cell_type": "markdown",
      "id": "64198ff2",
      "metadata": {
        "id": "64198ff2"
      },
      "source": [
        "## Problema 1: Exploración y validación de estructura del archivo (20 pts)\n",
        "1. Carga el archivo `health_lifestyle_classification.csv` utilizando funciones integradas (`open`, `readlines`, `split`, etc.) — sin `pandas`.\n",
        "2. Imprime:\n",
        "    * Los nombres de las columnas\n",
        "    * El número total de registros\n",
        "    * El tipo de dato de cada columna\n",
        "3. Valida que todas las filas tengan el mismo número de columnas que el encabezado.\n",
        "3. Asegúrate de que los valores de `gender` y `smoking_level` sean válidos.\n",
        "4. Crea una función `verificar_fila(fila: list) -> bool` que devuelva `True` si la fila es válida.\n",
        "5. Imprime cuántas filas son inválidas.\n"
      ]
    },
    {
      "cell_type": "markdown",
      "source": [
        "## Desarrollo problema 1"
      ],
      "metadata": {
        "id": "OL-aDX8m-knO"
      },
      "id": "OL-aDX8m-knO"
    },
    {
      "cell_type": "code",
      "execution_count": 120,
      "id": "4588fa9a",
      "metadata": {
        "id": "4588fa9a"
      },
      "outputs": [],
      "source": [
        "#1. Carga el archivo `health_lifestyle_classification.` utilizando funciones integradas (`open`, `readlines`, `split`, etc.) — sin `pandas`.\n",
        "url = \"https://github.com/witman92/C-tedra-1--Programacion-en-Python-2025/raw/main/clasificaci%C3%B3n%20de%20estilo%20de%20vida%20saludable..xlsx\""
      ]
    },
    {
      "cell_type": "code",
      "source": [
        "#2. Imprime:\n",
        "\n",
        "# Imprimir nombres de columnas\n",
        "print(\"Nombres de Columnas:\")\n",
        "print(df.columns.tolist())\n",
        "\n",
        "# Imprimir número total de registros\n",
        "print(\"\\nNúmero total de registros:\")\n",
        "print(len(df))\n",
        "\n",
        "# Imprimir tipos de datos de cada columna\n",
        "print(\"\\nTipos de datos de cada columna:\")\n",
        "print(df.dtypes)"
      ],
      "metadata": {
        "colab": {
          "base_uri": "https://localhost:8080/"
        },
        "collapsed": true,
        "id": "srtwO-aqD5gH",
        "outputId": "4b4a1da2-3dfb-45e5-b109-38ed7e9678ee"
      },
      "id": "srtwO-aqD5gH",
      "execution_count": 121,
      "outputs": [
        {
          "output_type": "stream",
          "name": "stdout",
          "text": [
            "Nombres de Columnas:\n",
            "['EDAD', 'GENERO', 'ESTATURA', 'PESO KG', 'IMC', 'IMC ESTIMADO', 'IMC ESCALADO', 'IMC CORREGIDO', 'TAMAÑO CINTURA', 'PRESION ARTERIAL', ' FRECUENCIA CARDIACA', 'COLESTEROL', 'GLUCOSA', 'INSULINA', 'HORAS  DE SUEÑO', 'CALIDAD DE SUEÑO', 'HORAS DE TRABAJO', 'ACTIVIDAD FISICA ', 'PASOS DIARIOS', 'CONSUMO  CALORIAS ', 'CONSUMO  AZUCAR ', 'CONSUMO  ALCOHOL', 'NIVEL FUMADOR', 'CONSUMO AGUA', 'TIEMPO PANTALLA', 'NIVEL ESTRÉS', 'PUNTUACION  DE SALUD MENTAL', 'APOYO SALUD MENTAL', 'NIVEL EDUCATIVO ', 'TIPO TRABAJO', 'OCUPACION', 'INGRESO', 'TIPO DIETA', 'TIPO EJERCICIO', 'USO MAQUINA', 'ACCESO SANITARIO', 'SEGURO', 'EXPOSICIÓN  A LUZ SOLAR', 'COMIDA POR DIA', 'CONSUMO CAFEINA', 'HISTORIA FAMILIAR', 'TIENE MASCOTA', 'NIVEL ELECTROLITOS', 'MARCADOR GENETICO', 'PUNTUACION RIESGO AMBIENTAL', 'DOCIS DIARIA SUMPLEMENTO', 'OBJETIVO']\n",
            "\n",
            "Número total de registros:\n",
            "99999\n",
            "\n",
            "Tipos de datos de cada columna:\n",
            "EDAD                             int64\n",
            "GENERO                          object\n",
            "ESTATURA                       float64\n",
            "PESO KG                        float64\n",
            "IMC                            float64\n",
            "IMC ESTIMADO                   float64\n",
            "IMC ESCALADO                   float64\n",
            "IMC CORREGIDO                  float64\n",
            "TAMAÑO CINTURA                 float64\n",
            "PRESION ARTERIAL               float64\n",
            " FRECUENCIA CARDIACA           float64\n",
            "COLESTEROL                     float64\n",
            "GLUCOSA                        float64\n",
            "INSULINA                       float64\n",
            "HORAS  DE SUEÑO                float64\n",
            "CALIDAD DE SUEÑO                object\n",
            "HORAS DE TRABAJO               float64\n",
            "ACTIVIDAD FISICA               float64\n",
            "PASOS DIARIOS                  float64\n",
            "CONSUMO  CALORIAS              float64\n",
            "CONSUMO  AZUCAR                float64\n",
            "CONSUMO  ALCOHOL                object\n",
            "NIVEL FUMADOR                   object\n",
            "CONSUMO AGUA                   float64\n",
            "TIEMPO PANTALLA                float64\n",
            "NIVEL ESTRÉS                     int64\n",
            "PUNTUACION  DE SALUD MENTAL      int64\n",
            "APOYO SALUD MENTAL              object\n",
            "NIVEL EDUCATIVO                 object\n",
            "TIPO TRABAJO                    object\n",
            "OCUPACION                       object\n",
            "INGRESO                        float64\n",
            "TIPO DIETA                      object\n",
            "TIPO EJERCICIO                  object\n",
            "USO MAQUINA                     object\n",
            "ACCESO SANITARIO                object\n",
            "SEGURO                          object\n",
            "EXPOSICIÓN  A LUZ SOLAR         object\n",
            "COMIDA POR DIA                   int64\n",
            "CONSUMO CAFEINA                 object\n",
            "HISTORIA FAMILIAR               object\n",
            "TIENE MASCOTA                   object\n",
            "NIVEL ELECTROLITOS               int64\n",
            "MARCADOR GENETICO              float64\n",
            "PUNTUACION RIESGO AMBIENTAL    float64\n",
            "DOCIS DIARIA SUMPLEMENTO       float64\n",
            "OBJETIVO                        object\n",
            "dtype: object\n"
          ]
        }
      ]
    },
    {
      "cell_type": "code",
      "source": [
        "# 3. Valida que todas las filas tengan el mismo número de columnas que el encabezado.\n",
        "\n",
        "# Obtener el número de columnas en el encabezado\n",
        "header_length = len(df.columns)\n",
        "# Inicializar un contador para filas inválidas\n",
        "invalid_rows_count_length = 0\n",
        "# Iterar sobre cada fila en el DataFrame\n",
        "for index, row in df.iterrows():\n",
        "    # Verificar si el número de columnas en la fila actual es diferente de la longitud del encabezado\n",
        "    if len(row) != header_length:\n",
        "        # Incrementar el contador de filas inválidas si el número de columnas no coincide\n",
        "        invalid_rows_count_length += 1\n",
        "\n",
        "# Imprimir el resultado de la validación\n",
        "if invalid_rows_count_length == 0:\n",
        "    print(\"Todas las filas tienen el mismo número de columnas que el encabezado.\")\n",
        "else:\n",
        "    print(f\"{invalid_rows_count_length} filas tienen un número diferente de columnas que el encabezado.\")"
      ],
      "metadata": {
        "colab": {
          "base_uri": "https://localhost:8080/"
        },
        "id": "CnreTb4LE1ol",
        "outputId": "687abcf9-94af-41c0-8450-ad4441076fce"
      },
      "id": "CnreTb4LE1ol",
      "execution_count": 122,
      "outputs": [
        {
          "output_type": "stream",
          "name": "stdout",
          "text": [
            "Todas las filas tienen el mismo número de columnas que el encabezado.\n"
          ]
        }
      ]
    },
    {
      "cell_type": "code",
      "source": [
        "# 4. Asegúrate de que los valores de `gender` y `smoking_level` sean válidos.\n",
        "\n",
        "# Imprimir los valores únicos de la columna 'GENERO' para verificar su validez\n",
        "print(\"Valores únicos para 'GENERO':\")\n",
        "print(df['GENERO'].unique())\n",
        "\n",
        "# Imprimir los valores únicos de la columna 'NIVEL FUMADOR' para verificar su validez\n",
        "print(\"\\nValores únicos para 'NIVEL FUMADOR':\")\n",
        "print(df['NIVEL FUMADOR'].unique())"
      ],
      "metadata": {
        "colab": {
          "base_uri": "https://localhost:8080/"
        },
        "collapsed": true,
        "id": "Y6PL4_4QH7u7",
        "outputId": "0da576dd-4614-4d62-fdfc-96176c174341"
      },
      "id": "Y6PL4_4QH7u7",
      "execution_count": 123,
      "outputs": [
        {
          "output_type": "stream",
          "name": "stdout",
          "text": [
            "Valores únicos para 'GENERO':\n",
            "['Femenino' 'Masculino']\n",
            "\n",
            "Valores únicos para 'NIVEL FUMADOR':\n",
            "['Ligero' 'Intenso' 'No fumador']\n"
          ]
        }
      ]
    },
    {
      "cell_type": "code",
      "source": [
        "# 5. Crea una función verificar_fila(fila: list) -> booleano que devuelva True si la fila es válida.\n",
        "def verificar_fila(row):\n",
        "    \"\"\"\n",
        "    Verifica si una fila del DataFrame es válida.\n",
        "\n",
        "    Args:\n",
        "        row: Una fila del DataFrame (pandas Series).\n",
        "\n",
        "    Returns:\n",
        "        True si la fila es válida, False en caso contrario.\n",
        "    \"\"\"\n",
        "    # Validar número de columnas\n",
        "    header_length = len(df.columns)\n",
        "    if len(row) != header_length:\n",
        "        return False\n",
        "\n",
        "    # Validar valores de 'GENERO' y 'NIVEL FUMADOR'\n",
        "    genero_valido = row['GENERO'] in ['Masculino', 'Femenino']\n",
        "\n",
        "    return genero_valido and row['NIVEL FUMADOR'] in ['No fumador', 'Fumador moderado', 'Gran fumador']\n",
        "\n",
        " #Note: This function is a duplicate of the one in cell 1qBFWiMEGyVQ, created as requested."
      ],
      "metadata": {
        "id": "N4YzOskeIybx"
      },
      "id": "N4YzOskeIybx",
      "execution_count": 124,
      "outputs": []
    },
    {
      "cell_type": "code",
      "source": [
        "# Aplicar la función y agregar la columna\n",
        "df['fila_valida'] = df.apply(verificar_fila, axis=1)\n",
        "\n",
        "# Imprimir solo las 10 primeras filas en formato de tabla\n",
        "print(df.head(10).to_string(index=False))"
      ],
      "metadata": {
        "colab": {
          "base_uri": "https://localhost:8080/"
        },
        "id": "jKGhFqXqkYeF",
        "outputId": "ae63f4c8-707d-475c-9d4f-0f1b6a20c751"
      },
      "id": "jKGhFqXqkYeF",
      "execution_count": 125,
      "outputs": [
        {
          "output_type": "stream",
          "name": "stdout",
          "text": [
            " EDAD    GENERO   ESTATURA   PESO KG       IMC  IMC ESTIMADO  IMC ESCALADO  IMC CORREGIDO  TAMAÑO CINTURA  PRESION ARTERIAL   FRECUENCIA CARDIACA  COLESTEROL    GLUCOSA  INSULINA  HORAS  DE SUEÑO CALIDAD DE SUEÑO  HORAS DE TRABAJO  ACTIVIDAD FISICA   PASOS DIARIOS  CONSUMO  CALORIAS   CONSUMO  AZUCAR  CONSUMO  ALCOHOL NIVEL FUMADOR  CONSUMO AGUA  TIEMPO PANTALLA  NIVEL ESTRÉS  PUNTUACION  DE SALUD MENTAL APOYO SALUD MENTAL   NIVEL EDUCATIVO  TIPO TRABAJO  OCUPACION     INGRESO  TIPO DIETA TIPO EJERCICIO USO MAQUINA ACCESO SANITARIO SEGURO EXPOSICIÓN  A LUZ SOLAR  COMIDA POR DIA CONSUMO CAFEINA HISTORIA FAMILIAR TIENE MASCOTA  NIVEL ELECTROLITOS  MARCADOR GENETICO  PUNTUACION RIESGO AMBIENTAL  DOCIS DIARIA SUMPLEMENTO  OBJETIVO  fila_valida\n",
            "   69  Femenino 163.207380 97.799859 36.716278     36.716278    110.148833      36.511417       85.598889        117.917986             66.463696  115.794002 116.905134 10.131597         8.428410            Bueno          9.515198           0.568219   11911.201401         2650.376972         74.663405     Regularmente        Ligero      0.716409         5.925455             3                            9                 No Escuela secundaria      Oficina  Ingeniero 6240.517690      Vegano         Cardio    Moderado         Moderado     No                    Alto               5        Moderado                Si            No                   0                1.0                          5.5                  6.239340 Saludable        False\n",
            "   46 Masculino 177.281966 80.687562 25.673050     25.673050     77.019151      25.587429       90.295030        123.073698             76.043212  138.134787  89.180302       NaN         5.702164             Malo          5.829853           3.764406    2974.035375         1746.755144         19.702382     Regularmente       Intenso      2.487900         4.371250             0                            1                 No           Maestría      Oficina    Maestro 3429.179266      Vegano         Cardio        Alto            Bueno     Si                    Alto               4        Moderado                No            No                   0                1.0                          5.5                  5.423737 Saludable        False\n",
            "   32  Femenino 172.101255 63.142868 21.318480     21.318480     63.955440      21.177109      100.504211        148.173453             68.781981  203.017447 128.375798 18.733179         5.188316            Bueno          9.489693           0.889474    5321.539497         2034.193242         82.580050   Ocasionalmente       Intenso      2.643335         4.116064            10                            4                 No           Maestría Mano de obra    Maestro 2618.503534 Vegetariano          Mixto        Bajo         Moderado     No                    Alto               1         Ninguno                No            Si                   0                1.0                          5.5                  8.388611 Saludable        False\n",
            "   60  Femenino 163.608816 40.000000 14.943302     14.943302     44.829907      14.844299       69.021150        150.613181             92.335358  200.412439  94.813332 16.038701         7.912514            Bueno          7.275450           2.901608    9791.376712         2386.210257         45.961322              NaN       Intenso      1.968393         3.180087             9                            7                 Si           Maestría Desempleados     Doctor 3662.086276      Vegano        Ninguno        Bajo         Moderado     Si                    Alto               1         Ninguno                Si            Si                   0                1.0                          5.5                  0.332622 Saludable        False\n",
            "   25 Masculino 186.788025 55.276111 15.843073     15.843073     47.529218      16.087835       86.591923        118.722971             51.971485  165.659179  99.496769       NaN        10.065352             Malo          8.536500           3.581308    9221.120390         2565.731983         71.999679   Ocasionalmente       Intenso      2.115213         5.878847             7                            6                 No Escuela secundaria      Oficina    Maestro 3667.151536 Vegetariano        Ninguno        Bajo         Moderado     Si                    Alto               4         Ninguno                Si            Si                   0                1.0                          5.5                 -8.985465 Saludable        False\n",
            "   78  Femenino 166.164733 65.035212 23.554335     23.554335     70.663006      23.452755       67.838374        102.141757             70.472631  245.801110  91.821000 15.583876         4.342973        Excelente          6.206772           0.294640    7968.302176         1868.203785         53.836960   Ocasionalmente       Intenso      1.704180         4.418494             7                            1                 Si          Bachiller Desempleados  Ingeniero 3898.829196 Vegetariano         Fuerza    Moderado             Malo     Si                    Alto               2         Ninguno                No            No                   0                NaN                          5.5                 -6.296536 Saludable        False\n",
            "   38  Femenino 163.783995 47.756125 17.802712     17.802712     53.408136      17.654781       73.071574        136.790243             65.791315  157.519344 106.466414 12.736925         6.659164             Malo          9.181722           1.783920    3606.509508         1885.142923         73.716032          Ninguno    No fumador      1.575306         8.298021             7                            2                 No          Bachiller   Tecnología Agricultor 3360.848318    Omnívoro         Fuerza        Alto         Moderado     Si                    Alto               3        Moderado                No            Si                   0                1.0                          5.5                  7.875266 Saludable         True\n",
            "   56  Femenino 165.716460 47.257109 17.208216     17.208216     51.624648      17.199712       46.675208        133.536300             78.205237  160.148783  78.770043       NaN         8.717906             Malo         11.461929           0.838778    5199.027338         1642.194189         84.438878   Ocasionalmente        Ligero      2.337446         0.707336             2                            9                 Si          Doctorado      Oficina  Ingeniero 5366.332772      Vegano        Ninguno        Alto         Moderado     Si                    Alto               2        Moderado                No            No                   0                NaN                          5.5                 -8.055654 Saludable        False\n",
            "   75 Masculino 151.310888 65.966591 28.812682     28.812682     86.438045      29.088049       94.294368        121.761602             90.470232  192.111798 130.681356       NaN         8.184905          Regular          4.638267           2.341377    7436.828641         2508.233129         58.937603          Ninguno    No fumador      3.118364         2.179987            10                            9                 No          Bachiller Mano de obra  Conductor 4472.934549    Omnívoro         Fuerza        Alto         Moderado     No                    Alto               1            Alto                Si            No                   0                1.0                          5.5                 -3.035162 Saludable         True\n",
            "   36 Masculino 154.018148 72.899782 30.731407     30.731407     92.194220      30.812236       71.862592        111.870635             66.922530  179.722343 138.632213  9.593523         7.917863             Malo          6.851885           1.354062    4906.718319         2014.520065         33.576716   Ocasionalmente    No fumador      1.935384         7.229068             9                            9                 Si          Bachiller Mano de obra  Conductor 2169.744988    Omnívoro         Fuerza        Alto         Moderado     Si                    Bajo               2            Alto                Si            Si                   0                1.0                          5.5                  8.682837 Saludable         True\n"
          ]
        }
      ]
    },
    {
      "cell_type": "markdown",
      "source": [],
      "metadata": {
        "id": "ggFymIf4XzKs"
      },
      "id": "ggFymIf4XzKs"
    },
    {
      "cell_type": "markdown",
      "source": [],
      "metadata": {
        "id": "j1iQ1IpaXzHs"
      },
      "id": "j1iQ1IpaXzHs"
    },
    {
      "cell_type": "markdown",
      "id": "ae8dece6",
      "metadata": {
        "id": "ae8dece6"
      },
      "source": [
        "## Problema 2: Clasificación de riesgo con múltiples condiciones (20 pts)\n",
        "1. Define una función `clasificar_riesgo(fila)` que devuelva:\n",
        " * \"Alto\" si la persona tiene bmi >= 30, Smoking == Yes y physical_activity == No\n",
        " * \"Medio\" si solo cumple dos de esas condiciones.\n",
        " * \"Bajo\" si solo cumple una.\n",
        " * \"Muy bajo\" si no cumple ninguna.\n",
        "2. Usa un bucle para clasificar cada individuo del dataset (puedes hacerlo con map o for) y guarda los resultados en una nueva lista.\n",
        "3. Muestra el porcentaje de personas poco saludables respecto al total.\n",
        "\n",
        "**Nota**: Si es necesario agragar columnas al dataframe hacerlo."
      ]
    },
    {
      "cell_type": "markdown",
      "source": [
        "## Desarrollo problema 2"
      ],
      "metadata": {
        "id": "FejPktOAOWG4"
      },
      "id": "FejPktOAOWG4"
    },
    {
      "cell_type": "code",
      "source": [
        "# 1. Define una función clasificar_riesgo(fila) que devuelva:\n",
        "#    * \"Alto\" si la persona tiene bmi >= 30, Smoking == Yes y physical_activity == No\n",
        "#    * \"Medio\" si solo cumple dos de esas condiciones.\n",
        "#    * \"Bajo\" si solo cumple una.\n",
        "#    * \"Muy bajo\" si no cumple ninguna.\n",
        "\n",
        "def clasificar_riesgo(row):\n",
        "    \"\"\"\n",
        "    Clasifica el nivel de riesgo de una persona basado en IMC, nivel de fumador y actividad física.\n",
        "\n",
        "    Args:\n",
        "        row: Una fila del DataFrame (pandas Series).\n",
        "\n",
        "    Returns:\n",
        "        Una cadena (\"Alto\", \"Medio\", \"Bajo\", \"Muy bajo\") que indica el nivel de riesgo.\n",
        "    \"\"\"\n",
        "    conditions_met = 0\n",
        "    # Check IMC condition\n",
        "    if row['IMC'] >= 30:\n",
        "        conditions_met += 1\n",
        "    # Check Smoking condition (assuming 'Si' for smoking)\n",
        "    if row['NIVEL FUMADOR'] == 'Intenso': # Assuming 'Intenso' corresponds to 'Yes' smoking\n",
        "        conditions_met += 1\n",
        "    # Check physical activity condition (assuming 'No' for no physical activity)\n",
        "    if row['ACTIVIDAD FISICA '] == 'No': # Assuming 'No' corresponds to 'No' physical activity. Need to confirm actual values in the dataset.\n",
        "        conditions_met += 1\n",
        "\n",
        "    if conditions_met == 3:\n",
        "        return \"Alto\"\n",
        "    elif conditions_met == 2:\n",
        "        return \"Medio\"\n",
        "    elif conditions_met == 1:\n",
        "        return \"Bajo\"\n",
        "    else:\n",
        "        return \"Muy bajo\""
      ],
      "metadata": {
        "id": "a0CfTmn_22Bk"
      },
      "id": "a0CfTmn_22Bk",
      "execution_count": 126,
      "outputs": []
    },
    {
      "cell_type": "code",
      "source": [
        "# 2. Usa un bucle para clasificar cada individuo del dataset y guarda los resultados en una nueva lista.\n",
        "#    (puedes hacerlo con map o for) y guarda los resultados en una nueva lista.\n",
        "\n",
        "# Apply the clasificar_riesgo function to each row and create a new column 'NIVEL RIESGO'\n",
        "df['NIVEL RIESGO'] = df.apply(clasificar_riesgo, axis=1)\n",
        "df.head(10)\n"
      ],
      "metadata": {
        "colab": {
          "base_uri": "https://localhost:8080/",
          "height": 499
        },
        "collapsed": true,
        "id": "56jti6UC368h",
        "outputId": "e9c224e1-2580-4b09-9504-c2ccf81bd7c9"
      },
      "id": "56jti6UC368h",
      "execution_count": 127,
      "outputs": [
        {
          "output_type": "execute_result",
          "data": {
            "text/plain": [
              "    EDAD     GENERO    ESTATURA    PESO KG        IMC  IMC ESTIMADO  \\\n",
              "1     69   Femenino  163.207380  97.799859  36.716278     36.716278   \n",
              "2     46  Masculino  177.281966  80.687562  25.673050     25.673050   \n",
              "3     32   Femenino  172.101255  63.142868  21.318480     21.318480   \n",
              "4     60   Femenino  163.608816  40.000000  14.943302     14.943302   \n",
              "5     25  Masculino  186.788025  55.276111  15.843073     15.843073   \n",
              "6     78   Femenino  166.164733  65.035212  23.554335     23.554335   \n",
              "7     38   Femenino  163.783995  47.756125  17.802712     17.802712   \n",
              "8     56   Femenino  165.716460  47.257109  17.208216     17.208216   \n",
              "9     75  Masculino  151.310888  65.966591  28.812682     28.812682   \n",
              "10    36  Masculino  154.018148  72.899782  30.731407     30.731407   \n",
              "\n",
              "    IMC ESCALADO  IMC CORREGIDO  TAMAÑO CINTURA  PRESION ARTERIAL  ...  \\\n",
              "1     110.148833      36.511417       85.598889        117.917986  ...   \n",
              "2      77.019151      25.587429       90.295030        123.073698  ...   \n",
              "3      63.955440      21.177109      100.504211        148.173453  ...   \n",
              "4      44.829907      14.844299       69.021150        150.613181  ...   \n",
              "5      47.529218      16.087835       86.591923        118.722971  ...   \n",
              "6      70.663006      23.452755       67.838374        102.141757  ...   \n",
              "7      53.408136      17.654781       73.071574        136.790243  ...   \n",
              "8      51.624648      17.199712       46.675208        133.536300  ...   \n",
              "9      86.438045      29.088049       94.294368        121.761602  ...   \n",
              "10     92.194220      30.812236       71.862592        111.870635  ...   \n",
              "\n",
              "    CONSUMO CAFEINA  HISTORIA FAMILIAR  TIENE MASCOTA  NIVEL ELECTROLITOS  \\\n",
              "1          Moderado                 Si             No                   0   \n",
              "2          Moderado                 No             No                   0   \n",
              "3           Ninguno                 No             Si                   0   \n",
              "4           Ninguno                 Si             Si                   0   \n",
              "5           Ninguno                 Si             Si                   0   \n",
              "6           Ninguno                 No             No                   0   \n",
              "7          Moderado                 No             Si                   0   \n",
              "8          Moderado                 No             No                   0   \n",
              "9              Alto                 Si             No                   0   \n",
              "10             Alto                 Si             Si                   0   \n",
              "\n",
              "    MARCADOR GENETICO PUNTUACION RIESGO AMBIENTAL  DOCIS DIARIA SUMPLEMENTO  \\\n",
              "1                 1.0                         5.5                  6.239340   \n",
              "2                 1.0                         5.5                  5.423737   \n",
              "3                 1.0                         5.5                  8.388611   \n",
              "4                 1.0                         5.5                  0.332622   \n",
              "5                 1.0                         5.5                 -8.985465   \n",
              "6                 NaN                         5.5                 -6.296536   \n",
              "7                 1.0                         5.5                  7.875266   \n",
              "8                 NaN                         5.5                 -8.055654   \n",
              "9                 1.0                         5.5                 -3.035162   \n",
              "10                1.0                         5.5                  8.682837   \n",
              "\n",
              "     OBJETIVO  fila_valida  NIVEL RIESGO  \n",
              "1   Saludable        False          Bajo  \n",
              "2   Saludable        False          Bajo  \n",
              "3   Saludable        False          Bajo  \n",
              "4   Saludable        False          Bajo  \n",
              "5   Saludable        False          Bajo  \n",
              "6   Saludable        False          Bajo  \n",
              "7   Saludable         True      Muy bajo  \n",
              "8   Saludable        False      Muy bajo  \n",
              "9   Saludable         True      Muy bajo  \n",
              "10  Saludable         True          Bajo  \n",
              "\n",
              "[10 rows x 49 columns]"
            ],
            "text/html": [
              "\n",
              "  <div id=\"df-3068beb0-353b-4d09-8e25-2a617891ad3f\" class=\"colab-df-container\">\n",
              "    <div>\n",
              "<style scoped>\n",
              "    .dataframe tbody tr th:only-of-type {\n",
              "        vertical-align: middle;\n",
              "    }\n",
              "\n",
              "    .dataframe tbody tr th {\n",
              "        vertical-align: top;\n",
              "    }\n",
              "\n",
              "    .dataframe thead th {\n",
              "        text-align: right;\n",
              "    }\n",
              "</style>\n",
              "<table border=\"1\" class=\"dataframe\">\n",
              "  <thead>\n",
              "    <tr style=\"text-align: right;\">\n",
              "      <th></th>\n",
              "      <th>EDAD</th>\n",
              "      <th>GENERO</th>\n",
              "      <th>ESTATURA</th>\n",
              "      <th>PESO KG</th>\n",
              "      <th>IMC</th>\n",
              "      <th>IMC ESTIMADO</th>\n",
              "      <th>IMC ESCALADO</th>\n",
              "      <th>IMC CORREGIDO</th>\n",
              "      <th>TAMAÑO CINTURA</th>\n",
              "      <th>PRESION ARTERIAL</th>\n",
              "      <th>...</th>\n",
              "      <th>CONSUMO CAFEINA</th>\n",
              "      <th>HISTORIA FAMILIAR</th>\n",
              "      <th>TIENE MASCOTA</th>\n",
              "      <th>NIVEL ELECTROLITOS</th>\n",
              "      <th>MARCADOR GENETICO</th>\n",
              "      <th>PUNTUACION RIESGO AMBIENTAL</th>\n",
              "      <th>DOCIS DIARIA SUMPLEMENTO</th>\n",
              "      <th>OBJETIVO</th>\n",
              "      <th>fila_valida</th>\n",
              "      <th>NIVEL RIESGO</th>\n",
              "    </tr>\n",
              "  </thead>\n",
              "  <tbody>\n",
              "    <tr>\n",
              "      <th>1</th>\n",
              "      <td>69</td>\n",
              "      <td>Femenino</td>\n",
              "      <td>163.207380</td>\n",
              "      <td>97.799859</td>\n",
              "      <td>36.716278</td>\n",
              "      <td>36.716278</td>\n",
              "      <td>110.148833</td>\n",
              "      <td>36.511417</td>\n",
              "      <td>85.598889</td>\n",
              "      <td>117.917986</td>\n",
              "      <td>...</td>\n",
              "      <td>Moderado</td>\n",
              "      <td>Si</td>\n",
              "      <td>No</td>\n",
              "      <td>0</td>\n",
              "      <td>1.0</td>\n",
              "      <td>5.5</td>\n",
              "      <td>6.239340</td>\n",
              "      <td>Saludable</td>\n",
              "      <td>False</td>\n",
              "      <td>Bajo</td>\n",
              "    </tr>\n",
              "    <tr>\n",
              "      <th>2</th>\n",
              "      <td>46</td>\n",
              "      <td>Masculino</td>\n",
              "      <td>177.281966</td>\n",
              "      <td>80.687562</td>\n",
              "      <td>25.673050</td>\n",
              "      <td>25.673050</td>\n",
              "      <td>77.019151</td>\n",
              "      <td>25.587429</td>\n",
              "      <td>90.295030</td>\n",
              "      <td>123.073698</td>\n",
              "      <td>...</td>\n",
              "      <td>Moderado</td>\n",
              "      <td>No</td>\n",
              "      <td>No</td>\n",
              "      <td>0</td>\n",
              "      <td>1.0</td>\n",
              "      <td>5.5</td>\n",
              "      <td>5.423737</td>\n",
              "      <td>Saludable</td>\n",
              "      <td>False</td>\n",
              "      <td>Bajo</td>\n",
              "    </tr>\n",
              "    <tr>\n",
              "      <th>3</th>\n",
              "      <td>32</td>\n",
              "      <td>Femenino</td>\n",
              "      <td>172.101255</td>\n",
              "      <td>63.142868</td>\n",
              "      <td>21.318480</td>\n",
              "      <td>21.318480</td>\n",
              "      <td>63.955440</td>\n",
              "      <td>21.177109</td>\n",
              "      <td>100.504211</td>\n",
              "      <td>148.173453</td>\n",
              "      <td>...</td>\n",
              "      <td>Ninguno</td>\n",
              "      <td>No</td>\n",
              "      <td>Si</td>\n",
              "      <td>0</td>\n",
              "      <td>1.0</td>\n",
              "      <td>5.5</td>\n",
              "      <td>8.388611</td>\n",
              "      <td>Saludable</td>\n",
              "      <td>False</td>\n",
              "      <td>Bajo</td>\n",
              "    </tr>\n",
              "    <tr>\n",
              "      <th>4</th>\n",
              "      <td>60</td>\n",
              "      <td>Femenino</td>\n",
              "      <td>163.608816</td>\n",
              "      <td>40.000000</td>\n",
              "      <td>14.943302</td>\n",
              "      <td>14.943302</td>\n",
              "      <td>44.829907</td>\n",
              "      <td>14.844299</td>\n",
              "      <td>69.021150</td>\n",
              "      <td>150.613181</td>\n",
              "      <td>...</td>\n",
              "      <td>Ninguno</td>\n",
              "      <td>Si</td>\n",
              "      <td>Si</td>\n",
              "      <td>0</td>\n",
              "      <td>1.0</td>\n",
              "      <td>5.5</td>\n",
              "      <td>0.332622</td>\n",
              "      <td>Saludable</td>\n",
              "      <td>False</td>\n",
              "      <td>Bajo</td>\n",
              "    </tr>\n",
              "    <tr>\n",
              "      <th>5</th>\n",
              "      <td>25</td>\n",
              "      <td>Masculino</td>\n",
              "      <td>186.788025</td>\n",
              "      <td>55.276111</td>\n",
              "      <td>15.843073</td>\n",
              "      <td>15.843073</td>\n",
              "      <td>47.529218</td>\n",
              "      <td>16.087835</td>\n",
              "      <td>86.591923</td>\n",
              "      <td>118.722971</td>\n",
              "      <td>...</td>\n",
              "      <td>Ninguno</td>\n",
              "      <td>Si</td>\n",
              "      <td>Si</td>\n",
              "      <td>0</td>\n",
              "      <td>1.0</td>\n",
              "      <td>5.5</td>\n",
              "      <td>-8.985465</td>\n",
              "      <td>Saludable</td>\n",
              "      <td>False</td>\n",
              "      <td>Bajo</td>\n",
              "    </tr>\n",
              "    <tr>\n",
              "      <th>6</th>\n",
              "      <td>78</td>\n",
              "      <td>Femenino</td>\n",
              "      <td>166.164733</td>\n",
              "      <td>65.035212</td>\n",
              "      <td>23.554335</td>\n",
              "      <td>23.554335</td>\n",
              "      <td>70.663006</td>\n",
              "      <td>23.452755</td>\n",
              "      <td>67.838374</td>\n",
              "      <td>102.141757</td>\n",
              "      <td>...</td>\n",
              "      <td>Ninguno</td>\n",
              "      <td>No</td>\n",
              "      <td>No</td>\n",
              "      <td>0</td>\n",
              "      <td>NaN</td>\n",
              "      <td>5.5</td>\n",
              "      <td>-6.296536</td>\n",
              "      <td>Saludable</td>\n",
              "      <td>False</td>\n",
              "      <td>Bajo</td>\n",
              "    </tr>\n",
              "    <tr>\n",
              "      <th>7</th>\n",
              "      <td>38</td>\n",
              "      <td>Femenino</td>\n",
              "      <td>163.783995</td>\n",
              "      <td>47.756125</td>\n",
              "      <td>17.802712</td>\n",
              "      <td>17.802712</td>\n",
              "      <td>53.408136</td>\n",
              "      <td>17.654781</td>\n",
              "      <td>73.071574</td>\n",
              "      <td>136.790243</td>\n",
              "      <td>...</td>\n",
              "      <td>Moderado</td>\n",
              "      <td>No</td>\n",
              "      <td>Si</td>\n",
              "      <td>0</td>\n",
              "      <td>1.0</td>\n",
              "      <td>5.5</td>\n",
              "      <td>7.875266</td>\n",
              "      <td>Saludable</td>\n",
              "      <td>True</td>\n",
              "      <td>Muy bajo</td>\n",
              "    </tr>\n",
              "    <tr>\n",
              "      <th>8</th>\n",
              "      <td>56</td>\n",
              "      <td>Femenino</td>\n",
              "      <td>165.716460</td>\n",
              "      <td>47.257109</td>\n",
              "      <td>17.208216</td>\n",
              "      <td>17.208216</td>\n",
              "      <td>51.624648</td>\n",
              "      <td>17.199712</td>\n",
              "      <td>46.675208</td>\n",
              "      <td>133.536300</td>\n",
              "      <td>...</td>\n",
              "      <td>Moderado</td>\n",
              "      <td>No</td>\n",
              "      <td>No</td>\n",
              "      <td>0</td>\n",
              "      <td>NaN</td>\n",
              "      <td>5.5</td>\n",
              "      <td>-8.055654</td>\n",
              "      <td>Saludable</td>\n",
              "      <td>False</td>\n",
              "      <td>Muy bajo</td>\n",
              "    </tr>\n",
              "    <tr>\n",
              "      <th>9</th>\n",
              "      <td>75</td>\n",
              "      <td>Masculino</td>\n",
              "      <td>151.310888</td>\n",
              "      <td>65.966591</td>\n",
              "      <td>28.812682</td>\n",
              "      <td>28.812682</td>\n",
              "      <td>86.438045</td>\n",
              "      <td>29.088049</td>\n",
              "      <td>94.294368</td>\n",
              "      <td>121.761602</td>\n",
              "      <td>...</td>\n",
              "      <td>Alto</td>\n",
              "      <td>Si</td>\n",
              "      <td>No</td>\n",
              "      <td>0</td>\n",
              "      <td>1.0</td>\n",
              "      <td>5.5</td>\n",
              "      <td>-3.035162</td>\n",
              "      <td>Saludable</td>\n",
              "      <td>True</td>\n",
              "      <td>Muy bajo</td>\n",
              "    </tr>\n",
              "    <tr>\n",
              "      <th>10</th>\n",
              "      <td>36</td>\n",
              "      <td>Masculino</td>\n",
              "      <td>154.018148</td>\n",
              "      <td>72.899782</td>\n",
              "      <td>30.731407</td>\n",
              "      <td>30.731407</td>\n",
              "      <td>92.194220</td>\n",
              "      <td>30.812236</td>\n",
              "      <td>71.862592</td>\n",
              "      <td>111.870635</td>\n",
              "      <td>...</td>\n",
              "      <td>Alto</td>\n",
              "      <td>Si</td>\n",
              "      <td>Si</td>\n",
              "      <td>0</td>\n",
              "      <td>1.0</td>\n",
              "      <td>5.5</td>\n",
              "      <td>8.682837</td>\n",
              "      <td>Saludable</td>\n",
              "      <td>True</td>\n",
              "      <td>Bajo</td>\n",
              "    </tr>\n",
              "  </tbody>\n",
              "</table>\n",
              "<p>10 rows × 49 columns</p>\n",
              "</div>\n",
              "    <div class=\"colab-df-buttons\">\n",
              "\n",
              "  <div class=\"colab-df-container\">\n",
              "    <button class=\"colab-df-convert\" onclick=\"convertToInteractive('df-3068beb0-353b-4d09-8e25-2a617891ad3f')\"\n",
              "            title=\"Convert this dataframe to an interactive table.\"\n",
              "            style=\"display:none;\">\n",
              "\n",
              "  <svg xmlns=\"http://www.w3.org/2000/svg\" height=\"24px\" viewBox=\"0 -960 960 960\">\n",
              "    <path d=\"M120-120v-720h720v720H120Zm60-500h600v-160H180v160Zm220 220h160v-160H400v160Zm0 220h160v-160H400v160ZM180-400h160v-160H180v160Zm440 0h160v-160H620v160ZM180-180h160v-160H180v160Zm440 0h160v-160H620v160Z\"/>\n",
              "  </svg>\n",
              "    </button>\n",
              "\n",
              "  <style>\n",
              "    .colab-df-container {\n",
              "      display:flex;\n",
              "      gap: 12px;\n",
              "    }\n",
              "\n",
              "    .colab-df-convert {\n",
              "      background-color: #E8F0FE;\n",
              "      border: none;\n",
              "      border-radius: 50%;\n",
              "      cursor: pointer;\n",
              "      display: none;\n",
              "      fill: #1967D2;\n",
              "      height: 32px;\n",
              "      padding: 0 0 0 0;\n",
              "      width: 32px;\n",
              "    }\n",
              "\n",
              "    .colab-df-convert:hover {\n",
              "      background-color: #E2EBFA;\n",
              "      box-shadow: 0px 1px 2px rgba(60, 64, 67, 0.3), 0px 1px 3px 1px rgba(60, 64, 67, 0.15);\n",
              "      fill: #174EA6;\n",
              "    }\n",
              "\n",
              "    .colab-df-buttons div {\n",
              "      margin-bottom: 4px;\n",
              "    }\n",
              "\n",
              "    [theme=dark] .colab-df-convert {\n",
              "      background-color: #3B4455;\n",
              "      fill: #D2E3FC;\n",
              "    }\n",
              "\n",
              "    [theme=dark] .colab-df-convert:hover {\n",
              "      background-color: #434B5C;\n",
              "      box-shadow: 0px 1px 3px 1px rgba(0, 0, 0, 0.15);\n",
              "      filter: drop-shadow(0px 1px 2px rgba(0, 0, 0, 0.3));\n",
              "      fill: #FFFFFF;\n",
              "    }\n",
              "  </style>\n",
              "\n",
              "    <script>\n",
              "      const buttonEl =\n",
              "        document.querySelector('#df-3068beb0-353b-4d09-8e25-2a617891ad3f button.colab-df-convert');\n",
              "      buttonEl.style.display =\n",
              "        google.colab.kernel.accessAllowed ? 'block' : 'none';\n",
              "\n",
              "      async function convertToInteractive(key) {\n",
              "        const element = document.querySelector('#df-3068beb0-353b-4d09-8e25-2a617891ad3f');\n",
              "        const dataTable =\n",
              "          await google.colab.kernel.invokeFunction('convertToInteractive',\n",
              "                                                    [key], {});\n",
              "        if (!dataTable) return;\n",
              "\n",
              "        const docLinkHtml = 'Like what you see? Visit the ' +\n",
              "          '<a target=\"_blank\" href=https://colab.research.google.com/notebooks/data_table.ipynb>data table notebook</a>'\n",
              "          + ' to learn more about interactive tables.';\n",
              "        element.innerHTML = '';\n",
              "        dataTable['output_type'] = 'display_data';\n",
              "        await google.colab.output.renderOutput(dataTable, element);\n",
              "        const docLink = document.createElement('div');\n",
              "        docLink.innerHTML = docLinkHtml;\n",
              "        element.appendChild(docLink);\n",
              "      }\n",
              "    </script>\n",
              "  </div>\n",
              "\n",
              "\n",
              "    <div id=\"df-183e54b3-673d-411e-a8b2-385ac6995b55\">\n",
              "      <button class=\"colab-df-quickchart\" onclick=\"quickchart('df-183e54b3-673d-411e-a8b2-385ac6995b55')\"\n",
              "                title=\"Suggest charts\"\n",
              "                style=\"display:none;\">\n",
              "\n",
              "<svg xmlns=\"http://www.w3.org/2000/svg\" height=\"24px\"viewBox=\"0 0 24 24\"\n",
              "     width=\"24px\">\n",
              "    <g>\n",
              "        <path d=\"M19 3H5c-1.1 0-2 .9-2 2v14c0 1.1.9 2 2 2h14c1.1 0 2-.9 2-2V5c0-1.1-.9-2-2-2zM9 17H7v-7h2v7zm4 0h-2V7h2v10zm4 0h-2v-4h2v4z\"/>\n",
              "    </g>\n",
              "</svg>\n",
              "      </button>\n",
              "\n",
              "<style>\n",
              "  .colab-df-quickchart {\n",
              "      --bg-color: #E8F0FE;\n",
              "      --fill-color: #1967D2;\n",
              "      --hover-bg-color: #E2EBFA;\n",
              "      --hover-fill-color: #174EA6;\n",
              "      --disabled-fill-color: #AAA;\n",
              "      --disabled-bg-color: #DDD;\n",
              "  }\n",
              "\n",
              "  [theme=dark] .colab-df-quickchart {\n",
              "      --bg-color: #3B4455;\n",
              "      --fill-color: #D2E3FC;\n",
              "      --hover-bg-color: #434B5C;\n",
              "      --hover-fill-color: #FFFFFF;\n",
              "      --disabled-bg-color: #3B4455;\n",
              "      --disabled-fill-color: #666;\n",
              "  }\n",
              "\n",
              "  .colab-df-quickchart {\n",
              "    background-color: var(--bg-color);\n",
              "    border: none;\n",
              "    border-radius: 50%;\n",
              "    cursor: pointer;\n",
              "    display: none;\n",
              "    fill: var(--fill-color);\n",
              "    height: 32px;\n",
              "    padding: 0;\n",
              "    width: 32px;\n",
              "  }\n",
              "\n",
              "  .colab-df-quickchart:hover {\n",
              "    background-color: var(--hover-bg-color);\n",
              "    box-shadow: 0 1px 2px rgba(60, 64, 67, 0.3), 0 1px 3px 1px rgba(60, 64, 67, 0.15);\n",
              "    fill: var(--button-hover-fill-color);\n",
              "  }\n",
              "\n",
              "  .colab-df-quickchart-complete:disabled,\n",
              "  .colab-df-quickchart-complete:disabled:hover {\n",
              "    background-color: var(--disabled-bg-color);\n",
              "    fill: var(--disabled-fill-color);\n",
              "    box-shadow: none;\n",
              "  }\n",
              "\n",
              "  .colab-df-spinner {\n",
              "    border: 2px solid var(--fill-color);\n",
              "    border-color: transparent;\n",
              "    border-bottom-color: var(--fill-color);\n",
              "    animation:\n",
              "      spin 1s steps(1) infinite;\n",
              "  }\n",
              "\n",
              "  @keyframes spin {\n",
              "    0% {\n",
              "      border-color: transparent;\n",
              "      border-bottom-color: var(--fill-color);\n",
              "      border-left-color: var(--fill-color);\n",
              "    }\n",
              "    20% {\n",
              "      border-color: transparent;\n",
              "      border-left-color: var(--fill-color);\n",
              "      border-top-color: var(--fill-color);\n",
              "    }\n",
              "    30% {\n",
              "      border-color: transparent;\n",
              "      border-left-color: var(--fill-color);\n",
              "      border-top-color: var(--fill-color);\n",
              "      border-right-color: var(--fill-color);\n",
              "    }\n",
              "    40% {\n",
              "      border-color: transparent;\n",
              "      border-right-color: var(--fill-color);\n",
              "      border-top-color: var(--fill-color);\n",
              "    }\n",
              "    60% {\n",
              "      border-color: transparent;\n",
              "      border-right-color: var(--fill-color);\n",
              "    }\n",
              "    80% {\n",
              "      border-color: transparent;\n",
              "      border-right-color: var(--fill-color);\n",
              "      border-bottom-color: var(--fill-color);\n",
              "    }\n",
              "    90% {\n",
              "      border-color: transparent;\n",
              "      border-bottom-color: var(--fill-color);\n",
              "    }\n",
              "  }\n",
              "</style>\n",
              "\n",
              "      <script>\n",
              "        async function quickchart(key) {\n",
              "          const quickchartButtonEl =\n",
              "            document.querySelector('#' + key + ' button');\n",
              "          quickchartButtonEl.disabled = true;  // To prevent multiple clicks.\n",
              "          quickchartButtonEl.classList.add('colab-df-spinner');\n",
              "          try {\n",
              "            const charts = await google.colab.kernel.invokeFunction(\n",
              "                'suggestCharts', [key], {});\n",
              "          } catch (error) {\n",
              "            console.error('Error during call to suggestCharts:', error);\n",
              "          }\n",
              "          quickchartButtonEl.classList.remove('colab-df-spinner');\n",
              "          quickchartButtonEl.classList.add('colab-df-quickchart-complete');\n",
              "        }\n",
              "        (() => {\n",
              "          let quickchartButtonEl =\n",
              "            document.querySelector('#df-183e54b3-673d-411e-a8b2-385ac6995b55 button');\n",
              "          quickchartButtonEl.style.display =\n",
              "            google.colab.kernel.accessAllowed ? 'block' : 'none';\n",
              "        })();\n",
              "      </script>\n",
              "    </div>\n",
              "\n",
              "    </div>\n",
              "  </div>\n"
            ],
            "application/vnd.google.colaboratory.intrinsic+json": {
              "type": "dataframe",
              "variable_name": "df"
            }
          },
          "metadata": {},
          "execution_count": 127
        }
      ]
    },
    {
      "cell_type": "code",
      "source": [
        "# 3. Muestra el porcentaje de personas poco saludables respecto al total.\n",
        "#    For this, we will consider 'Alto' and 'Medio' risk levels as unhealthy.\n",
        "unhealthy_people_count = df[(df['NIVEL RIESGO'] == 'Alto') | (df['NIVEL RIESGO'] == 'Medio')].shape[0]\n",
        "total_people_count = df.shape[0]\n",
        "\n",
        "percentage_unhealthy = (unhealthy_people_count / total_people_count) * 100\n",
        "\n",
        "print(f\"\\nPorcentaje de personas poco saludables (riesgo Alto o Medio): {percentage_unhealthy:.2f}%\")"
      ],
      "metadata": {
        "colab": {
          "base_uri": "https://localhost:8080/"
        },
        "id": "zVtrs0BF3cg2",
        "outputId": "c0fad09c-39b9-456c-b7da-5d55686caedd"
      },
      "id": "zVtrs0BF3cg2",
      "execution_count": 128,
      "outputs": [
        {
          "output_type": "stream",
          "name": "stdout",
          "text": [
            "\n",
            "Porcentaje de personas poco saludables (riesgo Alto o Medio): 5.81%\n"
          ]
        }
      ]
    },
    {
      "cell_type": "markdown",
      "source": [],
      "metadata": {
        "id": "SggZfobr30PV"
      },
      "id": "SggZfobr30PV"
    },
    {
      "cell_type": "markdown",
      "source": [],
      "metadata": {
        "id": "fpsb_p5A3z6h"
      },
      "id": "fpsb_p5A3z6h"
    },
    {
      "cell_type": "markdown",
      "id": "f43a7aa3",
      "metadata": {
        "id": "f43a7aa3"
      },
      "source": [
        "## Problema 3: Agregación y análisis por grupo (20 pts)\n",
        "1. Escribe una función `contar_por_genero` que reciba el dataset y devuelva un diccionario con la cantidad de personas por género.\n",
        "2. Agrega un parámetro opcional que permita filtrar solo a las personas por `diet_type` y por `education_level`.\n",
        "3. Contesta:\n",
        "* Cuantas masculinos tienen posgrado y ademas una vegana?\n",
        "* Cual es el porcentaje de personas con estudios no universitarios que ademas tienen una dieta keto?\n",
        "    * Cuantas son mujeres y cuantos hombres?\n",
        "* Hay una tendencia de personas con posgrados y dietas veganas o vegetarianas?\n"
      ]
    },
    {
      "cell_type": "markdown",
      "source": [],
      "metadata": {
        "id": "P1Doej4n7LtF"
      },
      "id": "P1Doej4n7LtF"
    },
    {
      "cell_type": "markdown",
      "source": [
        "## Desarrollo problema 3"
      ],
      "metadata": {
        "id": "ZrE7kVtY4PXx"
      },
      "id": "ZrE7kVtY4PXx"
    },
    {
      "cell_type": "code",
      "source": [
        "# 1. Escribe una función contar_por_genero que reciba el dataset y devuelva un diccionario con la cantidad de personas por género  masculino o femenino.\n",
        "# 2. Agrega un parámetro opcional que permita filtrar solo a las personas por tipo de dieta y por nivel educativo.\n",
        "\n",
        "def contar_por_genero(df, diet_type=None, education_level=None):\n",
        "    \"\"\"\n",
        "    Cuenta la cantidad de personas por género (masculino o femenino) en un DataFrame, con options de filtrado.\n",
        "\n",
        "    Args:\n",
        "        df: El DataFrame de pandas.\n",
        "        diet_type: (Opcional) Filtra por tipo de dieta (string).\n",
        "        education_level: (Opcional) Filtra por nivel educativo (string or list of strings).\n",
        "\n",
        "    Returns:\n",
        "        Un diccionario con la cantidad de personas por género.\n",
        "    \"\"\"\n",
        "    filtered_df = df.copy()\n",
        "    if diet_type:\n",
        "        filtered_df = filtered_df[filtered_df['TIPO DIETA'] == diet_type]\n",
        "\n",
        "    # Handle filtering by a single education level or a list of education levels\n",
        "    if education_level:\n",
        "        if isinstance(education_level, list):\n",
        "            filtered_df = filtered_df[filtered_df['NIVEL EDUCATIVO '].isin(education_level)]\n",
        "        else:\n",
        "            filtered_df = filtered_df[filtered_df['NIVEL EDUCATIVO '] == education_level]\n",
        "\n",
        "\n",
        "    # Ensure only 'Masculino' and 'Femenino' are counted\n",
        "    gender_counts = filtered_df[filtered_df['GENERO'].isin(['Masculino', 'Femenino'])]['GENERO'].value_counts().to_dict()\n",
        "    return gender_counts"
      ],
      "metadata": {
        "id": "bGoRN82uqkIo"
      },
      "id": "bGoRN82uqkIo",
      "execution_count": 129,
      "outputs": []
    },
    {
      "cell_type": "code",
      "source": [
        "# 3 .-contesta\n",
        "# a).- Cuantas masculinos tienen posgrado y ademas una vegana?\n",
        "\n",
        "# Assuming 'Posgrado' is the correct education level and 'Vegana' is the correct diet type\n",
        "count_masculine_maestria_vegana = contar_por_genero(df, diet_type='Vegana', education_level='Maestría ')\n",
        "\n",
        "# Filter for 'Masculino' gender in the resulting dictionary\n",
        "masculine_count = count_masculine_maestria_vegana.get('Masculino', 0)\n",
        "\n",
        "print(f\"Cantidad de masculinos con Maestría  y dieta vegana: {masculine_count}\")"
      ],
      "metadata": {
        "colab": {
          "base_uri": "https://localhost:8080/"
        },
        "id": "p6MAACdFqrta",
        "outputId": "cde1be16-1695-4ced-8b30-8611f5143b7d"
      },
      "id": "p6MAACdFqrta",
      "execution_count": 130,
      "outputs": [
        {
          "output_type": "stream",
          "name": "stdout",
          "text": [
            "Cantidad de masculinos con Maestría  y dieta vegana: 0\n"
          ]
        }
      ]
    },
    {
      "cell_type": "code",
      "source": [
        "#b).- Cual es el porcentaje de personas con estudios no universitarios tienen una dieta keto?\n",
        "#   * Cuantas son mujeres y cuantos hombres?\n",
        "\n",
        "# Assuming 'No universitario' is the correct education level and 'Keto' is the correct diet type\n",
        "non_university_keto_counts = contar_por_genero(df, diet_type='Keto', education_level='No universitario')\n",
        "\n",
        "total_non_university_keto = sum(non_university_keto_counts.values())\n",
        "total_people = len(df)\n",
        "percentage_non_university_keto = (total_non_university_keto / total_people) * 100\n",
        "\n",
        "print(f\"\\nPorcentaje de personas con estudios no universitarios y dieta keto: {percentage_non_university_keto:.2f}%\")\n",
        "print(f\"Cantidad de mujeres con estudios no universitarios y dieta keto: {non_university_keto_counts.get('Femenino', 0)}\")\n",
        "print(f\"Cantidad de hombres con estudios no universitarios y dieta keto: {non_university_keto_counts.get('Masculino', 0)}\")"
      ],
      "metadata": {
        "colab": {
          "base_uri": "https://localhost:8080/"
        },
        "id": "5HS6Yu0SD9F_",
        "outputId": "44f3cca7-5919-4ea2-f8ae-3829c68a8fec"
      },
      "id": "5HS6Yu0SD9F_",
      "execution_count": 131,
      "outputs": [
        {
          "output_type": "stream",
          "name": "stdout",
          "text": [
            "\n",
            "Porcentaje de personas con estudios no universitarios y dieta keto: 0.00%\n",
            "Cantidad de mujeres con estudios no universitarios y dieta keto: 0\n",
            "Cantidad de hombres con estudios no universitarios y dieta keto: 0\n"
          ]
        }
      ]
    },
    {
      "cell_type": "code",
      "source": [
        "#c).- Hay una tendencia de personas con posgrados y dietas veganas o vegetarianas?\n",
        "\n",
        "# Get counts for 'Posgrado' and 'Vegana' or 'Vegetariana' diets\n",
        "posgrado_vegan_vegetarian_counts = contar_por_genero(df[(df['TIPO DIETA'] == 'Vegana') | (df['TIPO DIETA'] == 'Vegetariana')], education_level='Posgrado')\n",
        "\n",
        "print(\"\\nCantidad de personas con posgrado y dieta vegana o vegetariana por género:\")\n",
        "print(posgrado_vegan_vegetarian_counts)\n",
        "\n",
        "# To determine if there's a trend, we could compare these counts to the total number of people with posgrados and the total number of people with vegan/vegetarian diets.\n",
        "total_posgrado = df[df['NIVEL EDUCATIVO '] == 'Posgrado'].shape[0]\n",
        "total_vegan_vegetarian = df[(df['TIPO DIETA'] == 'Vegana') | (df['TIPO DIETA'] == 'Vegetariana')].shape[0]\n",
        "\n",
        "print(f\"\\nTotal de personas con posgrado: {total_posgrado}\")\n",
        "print(f\"Total de personas con dieta vegana o vegetariana: {total_vegan_vegetarian}\")\n",
        "\n",
        "# A simple way to look for a trend is to see if the intersection (posgrado and vegan/vegetarian) is a significant portion of either the total posgrado group or the total vegan/vegetarian group.\n",
        "# However, a more robust analysis would involve statistical tests or visualizations. Based on just the counts, we can make a preliminary observation."
      ],
      "metadata": {
        "colab": {
          "base_uri": "https://localhost:8080/"
        },
        "id": "29FwXZb-DvpV",
        "outputId": "65b0408d-ea92-403a-9e98-87d21fc45ab2"
      },
      "id": "29FwXZb-DvpV",
      "execution_count": 132,
      "outputs": [
        {
          "output_type": "stream",
          "name": "stdout",
          "text": [
            "\n",
            "Cantidad de personas con posgrado y dieta vegana o vegetariana por género:\n",
            "{}\n",
            "\n",
            "Total de personas con posgrado: 0\n",
            "Total de personas con dieta vegana o vegetariana: 0\n"
          ]
        }
      ]
    },
    {
      "cell_type": "markdown",
      "source": [],
      "metadata": {
        "id": "mXFvYTu-9Vxg"
      },
      "id": "mXFvYTu-9Vxg"
    },
    {
      "cell_type": "markdown",
      "id": "bb0d4654",
      "metadata": {
        "id": "bb0d4654"
      },
      "source": [
        "## Problema 4: Transformaciones funcionales avanzadas (20 pts)\n",
        "1. Usa `map()` y/o  `lambda` para crear una nueva lista con el BMI (Índice de Masa Corporal) transformado a texto:\n",
        "* \"Normal\" si 18.5 ≤ BMI < 25\n",
        "* \"Sobrepeso\" si 25 ≤ BMI < 30\n",
        "* \"Obesidad\" si BMI ≥ 30\n",
        "* \"Bajo peso\" si BMI < 18.5\n",
        "\n",
        "2. Usa `filter()` para quedarte solo con los individuos categorizados como \"Obesidad\" en el paso anterior.\n",
        "3.  Usa `reduce()` para contar cuántos individuos hay por categoría.\n"
      ]
    },
    {
      "cell_type": "markdown",
      "source": [
        "## Desarrollo problema 4"
      ],
      "metadata": {
        "id": "eX5eQvsmFENQ"
      },
      "id": "eX5eQvsmFENQ"
    },
    {
      "cell_type": "code",
      "source": [
        "from functools import reduce\n",
        "\n",
        "# 1. Clasificar el BMI (Índice de Masa Corporal) en categorías:\n",
        "#    - \"Bajo peso\"    : BMI < 18.5\n",
        "#    - \"Normal\"       : 18.5 ≤ BMI < 25\n",
        "#    - \"Sobrepeso\"    : 25 ≤ BMI < 30\n",
        "#    - \"Obesidad\"     : BMI ≥ 30\n",
        "#    - \"Unknown\"      : valores no válidos\n",
        "\n",
        "def categorize_bmi(bmi):\n",
        "    \"\"\"Devuelve la categoría correspondiente al valor de BMI dado.\"\"\"\n",
        "    try:\n",
        "        bmi = float(bmi)\n",
        "        if bmi < 18.5:\n",
        "            return \"Bajo peso\"\n",
        "        elif bmi < 25:\n",
        "            return \"Normal\"\n",
        "        elif bmi < 30:\n",
        "            return \"Sobrepeso\"\n",
        "        else:\n",
        "            return \"Obesidad\"\n",
        "    except (ValueError, TypeError):\n",
        "        return \"Unknown\"\n",
        "\n",
        "# Aplicar la función a la columna 'IMC' del DataFrame\n",
        "bmi_categories = list(map(categorize_bmi, df['IMC']))\n",
        "\n",
        "print(\"Primeros 10 valores de BMI categorizados:\")\n",
        "print(bmi_categories[:10])\n",
        "\n",
        "# 2. Filtrar solo los individuos con categoría \"Obesidad\"\n",
        "obese_individuals = list(filter(lambda c: c == \"Obesidad\", bmi_categories))\n",
        "\n",
        "print(\"\\nCantidad de individuos categorizados como 'Obesidad':\")\n",
        "print(len(obese_individuals))\n",
        "\n",
        "# 3. Contar cuántos individuos hay por categoría usando reduce\n",
        "def count_categories(acc, category):\n",
        "    \"\"\"Incrementa el contador de cada categoría en el diccionario acumulador.\"\"\"\n",
        "    acc[category] = acc.get(category, 0) + 1\n",
        "    return acc\n",
        "\n",
        "category_counts = reduce(count_categories, bmi_categories, {})\n",
        "\n",
        "print(\"\\nConteo de individuos por categoría de BMI:\")\n",
        "print(category_counts)\n"
      ],
      "metadata": {
        "colab": {
          "base_uri": "https://localhost:8080/"
        },
        "id": "3mRPsomCI2-0",
        "outputId": "545cd1fa-4beb-46cb-b434-eb0ddd295bcc"
      },
      "id": "3mRPsomCI2-0",
      "execution_count": 133,
      "outputs": [
        {
          "output_type": "stream",
          "name": "stdout",
          "text": [
            "Primeros 10 valores de BMI categorizados:\n",
            "['Obesidad', 'Sobrepeso', 'Normal', 'Bajo peso', 'Bajo peso', 'Normal', 'Bajo peso', 'Bajo peso', 'Sobrepeso', 'Obesidad']\n",
            "\n",
            "Cantidad de individuos categorizados como 'Obesidad':\n",
            "17431\n",
            "\n",
            "Conteo de individuos por categoría de BMI:\n",
            "{'Obesidad': 17431, 'Sobrepeso': 26863, 'Normal': 39721, 'Bajo peso': 15984}\n"
          ]
        }
      ]
    },
    {
      "cell_type": "markdown",
      "id": "3f8d6e48",
      "metadata": {
        "id": "3f8d6e48"
      },
      "source": [
        "## Problema 5: Manejo de excepciones y robustez del código (20 pts)\n",
        "1. Implementa una función `cargar_y_procesar(path: str)` que:\n",
        "* Intente abrir y leer un archivo `.csv`.\n",
        "* Detecte errores como:\n",
        "    * Archivo no encontrado\n",
        "    * Columnas incompletas\n",
        "    * Errores comunes (`FileNotFoundError`, errores de tipo, etc.) con `try/except/finally` (por ejemplo, un BMI que no sea numérico)\n",
        "* Genere mensajes específicos usando try/except y bloques finally.\n",
        "* Devuelva None en caso de fallo, o una estructura de datos limpia si todo fue correcto.\n",
        "\n"
      ]
    },
    {
      "cell_type": "markdown",
      "source": [
        "## Desarrollo problema 5"
      ],
      "metadata": {
        "id": "610ZFHwKI_lQ"
      },
      "id": "610ZFHwKI_lQ"
    },
    {
      "cell_type": "code",
      "source": [
        "import requests\n",
        "import os\n",
        "\n",
        "# Paso 1: Definir la URL del archivo CSV y la ruta temporal donde se almacenará\n",
        "url = \"https://github.com/witman92/C-tedra-1--Programacion-en-Python-2025/raw/main/health_lifestyle_classification.csv\"\n",
        "temp_file_path = \"/tmp/health_lifestyle_classification.csv\"\n",
        "\n",
        "try:\n",
        "    # Paso 2: Descargar el archivo CSV desde la URL proporcionada\n",
        "    response = requests.get(url)\n",
        "    response.raise_for_status()  # Verificar si la descarga fue exitosa (status 200)\n",
        "\n",
        "    # Paso 3: Guardar el contenido descargado en un archivo temporal\n",
        "    with open(temp_file_path, 'wb') as archivo_temporal:\n",
        "        archivo_temporal.write(response.content)\n",
        "    print(f\"✅ Archivo descargado exitosamente en: '{temp_file_path}'\")\n",
        "\n",
        "    # Paso 4: Procesar el archivo descargado usando una función externa\n",
        "    print(\"\\n--- Procesando el archivo descargado ---\")\n",
        "    datos_procesados = cargar_y_procesar(temp_file_path)\n",
        "\n",
        "    # Paso 5: Verificar si los datos fueron procesados correctamente\n",
        "    if datos_procesados:\n",
        "        print(f\"\\n✅ Se cargaron y procesaron {len(datos_procesados)} filas de datos válidos.\")\n",
        "        # Opcional: Mostrar algunas filas para verificación\n",
        "        # print(\"Primeras 5 filas procesadas:\")\n",
        "        # for i, fila in enumerate(datos_procesados[:5]):\n",
        "        #     print(fila)\n",
        "    else:\n",
        "        print(\"\\n⚠️ No se pudieron cargar ni procesar los datos del archivo descargado.\")\n",
        "\n",
        "# Paso 6: Manejo de errores específicos y genéricos\n",
        "except requests.exceptions.RequestException as e:\n",
        "    print(f\"❌ Error al descargar el archivo desde la URL: {e}\")\n",
        "except IOError as e:\n",
        "    print(f\"❌ Error de entrada/salida al escribir el archivo temporal: {e}\")\n",
        "except Exception as e:\n",
        "    print(f\"❌ Ocurrió un error inesperado: {e}\")\n",
        "\n",
        "# Paso 7: Limpieza final del archivo temporal (opcional)\n",
        "finally:\n",
        "    if os.path.exists(temp_file_path):\n",
        "        # os.remove(temp_file_path)  # Descomentar si deseas eliminar el archivo después del uso\n",
        "        print(f\"\\nℹ️ El archivo temporal '{temp_file_path}' se mantiene para revisión (puedes descomentar 'os.remove' para eliminarlo).\")\n"
      ],
      "metadata": {
        "colab": {
          "base_uri": "https://localhost:8080/"
        },
        "id": "9OAKHdCeeK1g",
        "outputId": "b9350418-46c6-402f-9cef-7695ebc45578"
      },
      "id": "9OAKHdCeeK1g",
      "execution_count": 134,
      "outputs": [
        {
          "output_type": "stream",
          "name": "stdout",
          "text": [
            "✅ Archivo descargado exitosamente en: '/tmp/health_lifestyle_classification.csv'\n",
            "\n",
            "--- Procesando el archivo descargado ---\n",
            "Archivo '/tmp/health_lifestyle_classification.csv' abierto y encabezado leído exitosamente.\n",
            "Encabezado: ['survey_code', 'age', 'gender', 'height', 'weight', 'bmi', 'bmi_estimated', 'bmi_scaled', 'bmi_corrected', 'waist_size', 'blood_pressure', 'heart_rate', 'cholesterol', 'glucose', 'insulin', 'sleep_hours', 'sleep_quality', 'work_hours', 'physical_activity', 'daily_steps', 'calorie_intake', 'sugar_intake', 'alcohol_consumption', 'smoking_level', 'water_intake', 'screen_time', 'stress_level', 'mental_health_score', 'mental_health_support', 'education_level', 'job_type', 'occupation', 'income', 'diet_type', 'exercise_type', 'device_usage', 'healthcare_access', 'insurance', 'sunlight_exposure', 'meals_per_day', 'caffeine_intake', 'family_history', 'pet_owner', 'electrolyte_level', 'gene_marker_flag', 'environmental_risk_score', 'daily_supplement_dosage', 'target']\n",
            "Advertencia: Columna 'IMC' no encontrada en el encabezado. No se realizará la validación de tipo para IMC.\n",
            "Procesamiento del archivo completado.\n",
            "Finalizando el intento de carga y procesamiento del archivo.\n",
            "\n",
            "✅ Se cargaron y procesaron 100000 filas de datos válidos.\n",
            "\n",
            "ℹ️ El archivo temporal '/tmp/health_lifestyle_classification.csv' se mantiene para revisión (puedes descomentar 'os.remove' para eliminarlo).\n"
          ]
        }
      ]
    }
  ],
  "metadata": {
    "language_info": {
      "name": "python"
    },
    "colab": {
      "provenance": []
    },
    "kernelspec": {
      "name": "python3",
      "display_name": "Python 3"
    }
  },
  "nbformat": 4,
  "nbformat_minor": 5
}